{
 "metadata": {
  "name": ""
 },
 "nbformat": 3,
 "nbformat_minor": 0,
 "worksheets": [
  {
   "cells": [
    {
     "cell_type": "markdown",
     "metadata": {},
     "source": [
      "# Git: Viewing Commit History and Restoring Files"
     ]
    },
    {
     "cell_type": "markdown",
     "metadata": {},
     "source": [
      "## Version control with `git` allows you to view and restore changes made to a file over time. "
     ]
    },
    {
     "cell_type": "markdown",
     "metadata": {},
     "source": [
      "- `git log`"
     ]
    },
    {
     "cell_type": "markdown",
     "metadata": {},
     "source": [
      "- `git diff`"
     ]
    },
    {
     "cell_type": "markdown",
     "metadata": {},
     "source": [
      "- `git checkout`"
     ]
    },
    {
     "cell_type": "markdown",
     "metadata": {},
     "source": [
      "- `git reset`"
     ]
    },
    {
     "cell_type": "markdown",
     "metadata": {},
     "source": [
      "## First, let's review some Git basics and the development workflow:"
     ]
    },
    {
     "cell_type": "markdown",
     "metadata": {},
     "source": [
      "### Development workflow: work, add, commit, work, add, commit..."
     ]
    }
   ],
   "metadata": {}
  }
 ]
}